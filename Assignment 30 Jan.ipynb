{
 "cells": [
  {
   "cell_type": "code",
   "execution_count": 14,
   "id": "6fdd7ec4-c70f-4ad8-85fd-21cfbad02ee5",
   "metadata": {},
   "outputs": [
    {
     "name": "stdin",
     "output_type": "stream",
     "text": [
      "enter your numbers 65\n"
     ]
    },
    {
     "name": "stdout",
     "output_type": "stream",
     "text": [
      "Grade C\n"
     ]
    }
   ],
   "source": [
    "##1\n",
    "marks=int(input(\"enter your numbers\"))\n",
    "if marks>90:\n",
    "    print(\"Grade A\")\n",
    "elif marks>80 and marks<=90:\n",
    "    print(\"Grade B\")\n",
    "elif marks>=60 and marks<=80:\n",
    "    print(\"Grade C\")\n",
    "else:\n",
    "    print (\"Grade D\")"
   ]
  },
  {
   "cell_type": "code",
   "execution_count": 16,
   "id": "2f789279-ff90-4625-99f7-9f25bdb78265",
   "metadata": {},
   "outputs": [
    {
     "name": "stdin",
     "output_type": "stream",
     "text": [
      "enter your price 20000\n"
     ]
    },
    {
     "name": "stdout",
     "output_type": "stream",
     "text": [
      "Tax 5%\n"
     ]
    }
   ],
   "source": [
    "## 2\n",
    "cost_price=int(input(\"enter your price\"))\n",
    "if cost_price>100000:\n",
    "    print(\"Tax 15%\")\n",
    "elif cost_price<=100000 and cost_price>50000:\n",
    "    print(\"Tax 10%\")\n",
    "else:\n",
    "    print(\"Tax 5%\")\n",
    "                     \n",
    "                     "
   ]
  },
  {
   "cell_type": "code",
   "execution_count": 30,
   "id": "d1608d55-724d-496b-90b3-8b24127fa07b",
   "metadata": {},
   "outputs": [
    {
     "name": "stdin",
     "output_type": "stream",
     "text": [
      "enter the city name (Delhi, Agra, Jaipur) Jaipur\n"
     ]
    },
    {
     "name": "stdout",
     "output_type": "stream",
     "text": [
      "the mounment is Jal mahal\n"
     ]
    }
   ],
   "source": [
    "## 3\n",
    "city=input(\"enter the city name (Delhi, Agra, Jaipur)\")\n",
    "if city==\"Delhi\":\n",
    "    print(\"the mounment is Red Fort\")     \n",
    "elif city==\"Agra\":\n",
    "    print(\"the mounment is Taj Mahal\")    \n",
    "elif city==\"Jaipur\":\n",
    "     print(\"the mounment is Jal mahal\")   \n"
   ]
  },
  {
   "cell_type": "code",
   "execution_count": 18,
   "id": "d53bab9c-0924-4236-b9eb-003d76f25f34",
   "metadata": {},
   "outputs": [
    {
     "name": "stdin",
     "output_type": "stream",
     "text": [
      "enter your no. 78\n"
     ]
    },
    {
     "name": "stdout",
     "output_type": "stream",
     "text": [
      "2\n"
     ]
    }
   ],
   "source": [
    "##4 Check how many times a given no can be divide by 3 before it is less than or equal to 10.\n",
    "number=int(input(\"enter your no.\"))\n",
    "count=0\n",
    "while number>10:\n",
    "    number=number/3\n",
    "    count=count+1\n",
    "print(count)\n",
    "    \n"
   ]
  },
  {
   "cell_type": "code",
   "execution_count": null,
   "id": "54e6f40e-0998-423a-8ae0-327de1b11773",
   "metadata": {},
   "outputs": [],
   "source": [
    "##5- why and when to use while loop in python?\n",
    "##ans A while loop is a control flow statement in Python that allows you to repeatedly execute a block of code as long as a certain condition is true. Here's the basic syntax for a while loop:\n",
    "while condition:\n",
    "    # Code to be executed while condition is True"
   ]
  },
  {
   "cell_type": "code",
   "execution_count": 31,
   "id": "f36ea7af-9b39-4f65-aaf5-4f1b19f19d6f",
   "metadata": {},
   "outputs": [
    {
     "name": "stdout",
     "output_type": "stream",
     "text": [
      "[10, 9, 8, 7, 6, 5, 4, 3, 2, 1]\n"
     ]
    }
   ],
   "source": [
    "##7- Reverse a while loop to display numbers feom 10 t0 1.\n",
    "l=[]\n",
    "i=10\n",
    "while i>0:\n",
    "    l.append(i)\n",
    "    i=i-1\n",
    "print(l)"
   ]
  }
 ],
 "metadata": {
  "kernelspec": {
   "display_name": "Python 3 (ipykernel)",
   "language": "python",
   "name": "python3"
  },
  "language_info": {
   "codemirror_mode": {
    "name": "ipython",
    "version": 3
   },
   "file_extension": ".py",
   "mimetype": "text/x-python",
   "name": "python",
   "nbconvert_exporter": "python",
   "pygments_lexer": "ipython3",
   "version": "3.10.8"
  }
 },
 "nbformat": 4,
 "nbformat_minor": 5
}
